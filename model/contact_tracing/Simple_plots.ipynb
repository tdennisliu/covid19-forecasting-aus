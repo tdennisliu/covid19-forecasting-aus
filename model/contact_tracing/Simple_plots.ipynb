{
 "cells": [
  {
   "cell_type": "code",
   "execution_count": 4,
   "metadata": {},
   "outputs": [],
   "source": [
    "import numpy as np\n",
    "import pandas as pd\n",
    "import matplotlib.pyplot as plt\n",
    "import os, glob\n",
    "\n",
    "plt.style.use(\"seaborn-poster\")"
   ]
  },
  {
   "cell_type": "code",
   "execution_count": 48,
   "metadata": {},
   "outputs": [
    {
     "data": {
      "text/html": [
       "<div>\n",
       "<style scoped>\n",
       "    .dataframe tbody tr th:only-of-type {\n",
       "        vertical-align: middle;\n",
       "    }\n",
       "\n",
       "    .dataframe tbody tr th {\n",
       "        vertical-align: top;\n",
       "    }\n",
       "\n",
       "    .dataframe thead th {\n",
       "        text-align: right;\n",
       "    }\n",
       "</style>\n",
       "<table border=\"1\" class=\"dataframe\">\n",
       "  <thead>\n",
       "    <tr style=\"text-align: right;\">\n",
       "      <th></th>\n",
       "      <th>DAYS</th>\n",
       "      <th>actual_gen_times_25</th>\n",
       "      <th>actual_gen_times_75</th>\n",
       "      <th>actual_gen_times_mean</th>\n",
       "      <th>cases</th>\n",
       "      <th>pc</th>\n",
       "      <th>prop_cases_prevented_25</th>\n",
       "      <th>prop_cases_prevented_75</th>\n",
       "      <th>prop_cases_prevented_mean</th>\n",
       "      <th>sim</th>\n",
       "    </tr>\n",
       "  </thead>\n",
       "  <tbody>\n",
       "    <tr>\n",
       "      <th>0</th>\n",
       "      <td>0.0</td>\n",
       "      <td>1.052998</td>\n",
       "      <td>4.002547</td>\n",
       "      <td>2.778072</td>\n",
       "      <td>4229</td>\n",
       "      <td>1.0</td>\n",
       "      <td>0.375</td>\n",
       "      <td>1.0</td>\n",
       "      <td>0.752868</td>\n",
       "      <td>0</td>\n",
       "    </tr>\n",
       "    <tr>\n",
       "      <th>1</th>\n",
       "      <td>0.0</td>\n",
       "      <td>1.052998</td>\n",
       "      <td>4.002547</td>\n",
       "      <td>2.778072</td>\n",
       "      <td>18</td>\n",
       "      <td>1.0</td>\n",
       "      <td>0.375</td>\n",
       "      <td>1.0</td>\n",
       "      <td>0.752868</td>\n",
       "      <td>1</td>\n",
       "    </tr>\n",
       "    <tr>\n",
       "      <th>2</th>\n",
       "      <td>0.0</td>\n",
       "      <td>1.052998</td>\n",
       "      <td>4.002547</td>\n",
       "      <td>2.778072</td>\n",
       "      <td>52</td>\n",
       "      <td>1.0</td>\n",
       "      <td>0.375</td>\n",
       "      <td>1.0</td>\n",
       "      <td>0.752868</td>\n",
       "      <td>2</td>\n",
       "    </tr>\n",
       "    <tr>\n",
       "      <th>3</th>\n",
       "      <td>0.0</td>\n",
       "      <td>1.052998</td>\n",
       "      <td>4.002547</td>\n",
       "      <td>2.778072</td>\n",
       "      <td>3242</td>\n",
       "      <td>1.0</td>\n",
       "      <td>0.375</td>\n",
       "      <td>1.0</td>\n",
       "      <td>0.752868</td>\n",
       "      <td>3</td>\n",
       "    </tr>\n",
       "    <tr>\n",
       "      <th>4</th>\n",
       "      <td>0.0</td>\n",
       "      <td>1.052998</td>\n",
       "      <td>4.002547</td>\n",
       "      <td>2.778072</td>\n",
       "      <td>52</td>\n",
       "      <td>1.0</td>\n",
       "      <td>0.375</td>\n",
       "      <td>1.0</td>\n",
       "      <td>0.752868</td>\n",
       "      <td>4</td>\n",
       "    </tr>\n",
       "  </tbody>\n",
       "</table>\n",
       "</div>"
      ],
      "text/plain": [
       "   DAYS  actual_gen_times_25  actual_gen_times_75  actual_gen_times_mean  \\\n",
       "0   0.0             1.052998             4.002547               2.778072   \n",
       "1   0.0             1.052998             4.002547               2.778072   \n",
       "2   0.0             1.052998             4.002547               2.778072   \n",
       "3   0.0             1.052998             4.002547               2.778072   \n",
       "4   0.0             1.052998             4.002547               2.778072   \n",
       "\n",
       "   cases   pc  prop_cases_prevented_25  prop_cases_prevented_75  \\\n",
       "0   4229  1.0                    0.375                      1.0   \n",
       "1     18  1.0                    0.375                      1.0   \n",
       "2     52  1.0                    0.375                      1.0   \n",
       "3   3242  1.0                    0.375                      1.0   \n",
       "4     52  1.0                    0.375                      1.0   \n",
       "\n",
       "   prop_cases_prevented_mean  sim  \n",
       "0                   0.752868    0  \n",
       "1                   0.752868    1  \n",
       "2                   0.752868    2  \n",
       "3                   0.752868    3  \n",
       "4                   0.752868    4  "
      ]
     },
     "execution_count": 48,
     "metadata": {},
     "output_type": "execute_result"
    }
   ],
   "source": [
    "\n",
    "pc_list = (50, 75, 90, 100)\n",
    "Days_list = (-3,-2,-1,0,1,2)\n",
    "path = \"./allpc_\" #\"./results/pc_\"\n",
    "df = pd.DataFrame()\n",
    "\n",
    "\n",
    "for file in glob.glob(path+\"*.csv\"):\n",
    "    temp = pd.read_csv(file)\n",
    "    #temp['pc'] = pc\n",
    "    #temp['DAYS'] = days\n",
    "    df = df.append(temp)\n",
    "\n",
    "df.head()"
   ]
  },
  {
   "cell_type": "code",
   "execution_count": 52,
   "metadata": {},
   "outputs": [
    {
     "data": {
      "image/png": "[encoded data removed]",
      "text/plain": [
       "<Figure size 864x648 with 1 Axes>"
      ]
     },
     "metadata": {
      "needs_background": "light"
     },
     "output_type": "display_data"
    }
   ],
   "source": [
    "import seaborn as sns\n",
    "\n",
    "fig,ax = plt.subplots(figsize=(12,9))\n",
    "sns.boxplot(\n",
    "    x=\"DAYS\",\n",
    "    y=\"cases\",\n",
    "    hue=\"pc\",\n",
    "    data =df,\n",
    "    ax=ax\n",
    "    )\n",
    "ax.set_ylim((0,300))\n",
    "plt.show()"
   ]
  },
  {
   "cell_type": "code",
   "execution_count": 36,
   "metadata": {},
   "outputs": [],
   "source": [
    "def toy(child,parent_detected, DAYS=-2, parent_sot = 5, parent_at = 8):\n",
    "    from random import random\n",
    "    if parent_detected:\n",
    "        print(\"parent detected\")\n",
    "        if child < parent_sot + DAYS:\n",
    "            print(\"Too early, not traced\")\n",
    "        elif child < parent_at:\n",
    "            if random()< 0.5:\n",
    "                print(\"Traced\")\n",
    "            else:\n",
    "                print(\"Not traced\")\n",
    "    else:\n",
    "        print(\"parent undetected\")\n"
   ]
  },
  {
   "cell_type": "code",
   "execution_count": 47,
   "metadata": {},
   "outputs": [
    {
     "name": "stdout",
     "output_type": "stream",
     "text": [
      "parent undetected\n"
     ]
    }
   ],
   "source": [
    "toy(3, False)"
   ]
  },
  {
   "cell_type": "code",
   "execution_count": null,
   "metadata": {},
   "outputs": [],
   "source": []
  }
 ],
 "metadata": {
  "kernelspec": {
   "display_name": "Python 3",
   "language": "python",
   "name": "python3"
  },
  "language_info": {
   "codemirror_mode": {
    "name": "ipython",
    "version": 3
   },
   "file_extension": ".py",
   "mimetype": "text/x-python",
   "name": "python",
   "nbconvert_exporter": "python",
   "pygments_lexer": "ipython3",
   "version": "3.7.6"
  }
 },
 "nbformat": 4,
 "nbformat_minor": 4
}
